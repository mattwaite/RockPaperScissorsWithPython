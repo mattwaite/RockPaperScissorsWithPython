{
 "cells": [
  {
   "cell_type": "markdown",
   "metadata": {},
   "source": [
    "# Using functions, conditional logic and external libraries to play games.\n",
    "\n",
    "In the last assignment, we learned about functions and lists. In this walkthrough, we're going to add two more tools to our arsenal: External libraries and conditional logic.\n",
    "\n",
    "External libraries are code that is not in the standard library that performs a common task. For instance, choosing something at random is a common task, but not so common that it's built into Python's standard library. It's in an external library, conveniently called `random` that helps us choose something at random. \n",
    "\n",
    "Conditional logic uses terms like `if` and `else` to guide us through decisions. We can puzzle through conditional logic with words -- if this is greater than that, do this. Else, do this other thing. If we need more than one else, we use `elif`, which is the same as saying if this is greater than that, do this, else if that is greater than this, do this thing, else do something completely different. \n",
    "\n",
    "Let's apply these things using a simple game: Heads or Tails. \n",
    "\n",
    "The first thing we do in any Python script is we import the libraries we need. In this case, we need the random library. To import a library we simply do this: "
   ]
  },
  {
   "cell_type": "code",
   "execution_count": 3,
   "metadata": {
    "collapsed": true
   },
   "outputs": [],
   "source": [
    "import random"
   ]
  },
  {
   "cell_type": "markdown",
   "metadata": {},
   "source": [
    "Easy, right? \n",
    "\n",
    "So the next thing we need to do is to remember that in coding, before we can do anything, we need to create the things we need to do what we want. In this case, we need to create the coin, and it needs to have two sides: heads and tails. We can do this simply with a Python list."
   ]
  },
  {
   "cell_type": "code",
   "execution_count": 4,
   "metadata": {
    "collapsed": true
   },
   "outputs": [],
   "source": [
    "coin = [\"heads\", \"tails\"]"
   ]
  },
  {
   "cell_type": "markdown",
   "metadata": {},
   "source": [
    "Now, to make this a game, we can take input from a user using a function called `raw_input`. That looks like this:"
   ]
  },
  {
   "cell_type": "code",
   "execution_count": 9,
   "metadata": {},
   "outputs": [
    {
     "name": "stdout",
     "output_type": "stream",
     "text": [
      "Call it in the air: heads or tails: heads\n"
     ]
    }
   ],
   "source": [
    "call = input(\"Call it in the air: heads or tails: \")"
   ]
  },
  {
   "cell_type": "markdown",
   "metadata": {},
   "source": [
    "Now we have a variable called `call` that we can compare to our random choice. To have Python choose a random choice, it looks like this:"
   ]
  },
  {
   "cell_type": "code",
   "execution_count": 10,
   "metadata": {},
   "outputs": [
    {
     "name": "stdout",
     "output_type": "stream",
     "text": [
      "It is tails\n"
     ]
    }
   ],
   "source": [
    "flip = random.choice(coin)\n",
    "print(\"It is %s\" % flip)"
   ]
  },
  {
   "cell_type": "markdown",
   "metadata": {},
   "source": [
    "Now we need to determine if we win or not. We can do that with conditional logic. It take this form: if comparison between two things is what we want, do thing, else do other thing. In code, it looks like this:"
   ]
  },
  {
   "cell_type": "code",
   "execution_count": 11,
   "metadata": {},
   "outputs": [
    {
     "name": "stdout",
     "output_type": "stream",
     "text": [
      "Sorry. Better luck next time!\n"
     ]
    }
   ],
   "source": [
    "if call == flip:\n",
    "    print(\"You win!\")\n",
    "else:\n",
    "    print(\"Sorry. Better luck next time!\")"
   ]
  },
  {
   "cell_type": "markdown",
   "metadata": {},
   "source": [
    "## Assignment\n",
    "\n",
    "I want you to write a simple Python script that plays Rock Paper Scissors against itself using random choices. To do this, you will need to do the following. \n",
    "\n",
    "1. Use the random library.\n",
    "2. Define choices.\n",
    "3. Define a function that makes a choice. \n",
    "4. Make choices for each player randomly.\n",
    "5. Define a function that determines a winner using conditional logic. \n",
    "\n",
    "And then you'll need to play the game. \n",
    "\n",
    "Bonus points: How would you set it up to determine a winner of two out of three?"
   ]
  },
  {
   "cell_type": "code",
   "execution_count": null,
   "metadata": {
    "collapsed": true
   },
   "outputs": [],
   "source": []
  }
 ],
 "metadata": {
  "kernelspec": {
   "display_name": "Python 3",
   "language": "python",
   "name": "python3"
  },
  "language_info": {
   "codemirror_mode": {
    "name": "ipython",
    "version": 3
   },
   "file_extension": ".py",
   "mimetype": "text/x-python",
   "name": "python",
   "nbconvert_exporter": "python",
   "pygments_lexer": "ipython3",
   "version": "3.6.1"
  }
 },
 "nbformat": 4,
 "nbformat_minor": 1
}
