{
 "cells": [
  {
   "cell_type": "markdown",
   "metadata": {},
   "source": [
    "# Rock Paper Scissors with Python\n",
    "\n",
    "Here's a couple of versions. The first is the most verbose, most explicit version. It plays best two of three."
   ]
  },
  {
   "cell_type": "code",
   "execution_count": 4,
   "metadata": {},
   "outputs": [
    {
     "name": "stdout",
     "output_type": "stream",
     "text": [
      "Player 1 plays Scissors\n",
      "Player 2 plays Paper\n",
      "Player 1 wins\n",
      "Player 1 total wins: 1\n",
      "Player 1 plays Paper\n",
      "Player 2 plays Rock\n",
      "Player 1 wins\n",
      "Player 1 total wins: 2\n"
     ]
    }
   ],
   "source": [
    "import random\n",
    "\n",
    "choices = [\"Rock\", \"Paper\", \"Scissors\"]\n",
    "\n",
    "def choice():\n",
    "    selection = random.choice(choices)\n",
    "    return selection\n",
    "\n",
    "def winner(player1, player2):\n",
    "    if player1 == \"Rock\" and player2 == \"Rock\":\n",
    "        result = \"Tie\"\n",
    "    elif player1 == \"Rock\" and player2 == \"Paper\":\n",
    "        result = \"Player 2 wins\"\n",
    "    elif player1 == \"Rock\" and player2 == \"Scissors\":\n",
    "        result = \"Player 1 wins\"\n",
    "    elif player1 == \"Paper\" and player2 == \"Paper\":\n",
    "        result = \"Tie\"\n",
    "    elif player1 == \"Paper\" and player2 == \"Rock\":\n",
    "        result = \"Player 1 wins\"\n",
    "    elif player1 == \"Paper\" and player2 == \"Scissors\":\n",
    "        result = \"Player 2 wins\"\n",
    "    elif player1 == \"Scissors\" and player2 == \"Scissors\":\n",
    "        result = \"Tie\"\n",
    "    elif player1 == \"Scissors\" and player2 == \"Rock\":\n",
    "        result = \"Player 2 wins\"\n",
    "    elif player1 == \"Scissors\" and player2 == \"Paper\":\n",
    "        result = \"Player 1 wins\"\n",
    "    return result\n",
    "\n",
    "player_1_wins = 0\n",
    "player_2_wins = 0\n",
    "\n",
    "while player_1_wins != 2 and player_2_wins != 2:\n",
    "    player_1 = choice()\n",
    "    player_2 = choice()\n",
    "    winr = winner(player_1, player_2)\n",
    "    print(\"Player 1 plays %s\" % player_1)\n",
    "    print(\"Player 2 plays %s\" % player_2) \n",
    "    print(winr)\n",
    "    # Here's where we'll overwrite the counts of the wins to determine best two of three\n",
    "    if winr == \"Player 1 wins\":\n",
    "        player_1_wins = player_1_wins + 1\n",
    "        print(\"Player 1 total wins: %i\" % player_1_wins)\n",
    "    elif winr == \"Player 2 wins\":\n",
    "        player_2_wins = player_2_wins + 1 \n",
    "        print(\"Player 2 total wins: %i\" % player_2_wins)\n",
    "    else:\n",
    "        pass"
   ]
  },
  {
   "cell_type": "markdown",
   "metadata": {},
   "source": [
    "This version removes the explicit ties and just says if player1 == player2 it's a tie. Less code, same result."
   ]
  },
  {
   "cell_type": "code",
   "execution_count": 2,
   "metadata": {},
   "outputs": [
    {
     "name": "stdout",
     "output_type": "stream",
     "text": [
      "Player 1 plays Paper\n",
      "Player 2 plays Rock\n",
      "Player 1 wins\n",
      "Player 1 total wins: 1\n",
      "Player 1 plays Rock\n",
      "Player 2 plays Rock\n",
      "Tie\n",
      "Player 1 plays Scissors\n",
      "Player 2 plays Paper\n",
      "Player 1 wins\n",
      "Player 1 total wins: 2\n"
     ]
    }
   ],
   "source": [
    "import random\n",
    "\n",
    "choices = [\"Rock\", \"Paper\", \"Scissors\"]\n",
    "\n",
    "def choice():\n",
    "    selection = random.choice(choices)\n",
    "    return selection\n",
    "\n",
    "def winner(player1, player2):\n",
    "    if player1 == player2:\n",
    "        result = \"Tie\"\n",
    "    elif player1 == \"Rock\" and player2 == \"Paper\":\n",
    "        result = \"Player 2 wins\"\n",
    "    elif player1 == \"Rock\" and player2 == \"Scissors\":\n",
    "        result = \"Player 1 wins\"\n",
    "    elif player1 == \"Paper\" and player2 == \"Rock\":\n",
    "        result = \"Player 1 wins\"\n",
    "    elif player1 == \"Paper\" and player2 == \"Scissors\":\n",
    "        result = \"Player 2 wins\"\n",
    "    elif player1 == \"Scissors\" and player2 == \"Rock\":\n",
    "        result = \"Player 2 wins\"\n",
    "    elif player1 == \"Scissors\" and player2 == \"Paper\":\n",
    "        result = \"Player 1 wins\"\n",
    "    return result\n",
    "\n",
    "player_1_wins = 0\n",
    "player_2_wins = 0\n",
    "\n",
    "while player_1_wins != 2 and player_2_wins != 2:\n",
    "    player_1 = choice()\n",
    "    player_2 = choice()\n",
    "    winr = winner(player_1, player_2)\n",
    "    print(\"Player 1 plays %s\" % player_1)\n",
    "    print(\"Player 2 plays %s\" % player_2) \n",
    "    print(winr)\n",
    "    # Here's where we'll overwrite the counts of the wins to determine best two of three\n",
    "    if winr == \"Player 1 wins\":\n",
    "        player_1_wins = player_1_wins + 1\n",
    "        print(\"Player 1 total wins: %i\" % player_1_wins)\n",
    "    elif winr == \"Player 2 wins\":\n",
    "        player_2_wins = player_2_wins + 1 \n",
    "        print(\"Player 2 total wins: %i\" % player_2_wins)\n",
    "    else:\n",
    "        pass"
   ]
  },
  {
   "cell_type": "markdown",
   "metadata": {},
   "source": [
    "This version takes the explicit version and plays a million games of Rock Paper Scissors. The result is ... pretty equal. "
   ]
  },
  {
   "cell_type": "code",
   "execution_count": 3,
   "metadata": {},
   "outputs": [
    {
     "name": "stdout",
     "output_type": "stream",
     "text": [
      "Player 1 won 333277 games. Player 2 won 333557. There were 333166 ties.\n"
     ]
    }
   ],
   "source": [
    "import random\n",
    "\n",
    "choices = [\"Rock\", \"Paper\", \"Scissors\"]\n",
    "\n",
    "def choice():\n",
    "    selection = random.choice(choices)\n",
    "    return selection\n",
    "\n",
    "def winner(player1, player2):\n",
    "    if player1 == \"Rock\" and player2 == \"Rock\":\n",
    "        result = \"Tie\"\n",
    "    elif player1 == \"Rock\" and player2 == \"Paper\":\n",
    "        result = \"Player 2 wins\"\n",
    "    elif player1 == \"Rock\" and player2 == \"Scissors\":\n",
    "        result = \"Player 1 wins\"\n",
    "    elif player1 == \"Paper\" and player2 == \"Paper\":\n",
    "        result = \"Tie\"\n",
    "    elif player1 == \"Paper\" and player2 == \"Rock\":\n",
    "        result = \"Player 1 wins\"\n",
    "    elif player1 == \"Paper\" and player2 == \"Scissors\":\n",
    "        result = \"Player 2 wins\"\n",
    "    elif player1 == \"Scissors\" and player2 == \"Scissors\":\n",
    "        result = \"Tie\"\n",
    "    elif player1 == \"Scissors\" and player2 == \"Rock\":\n",
    "        result = \"Player 2 wins\"\n",
    "    elif player1 == \"Scissors\" and player2 == \"Paper\":\n",
    "        result = \"Player 1 wins\"\n",
    "    return result\n",
    "\n",
    "player_1_wins = 0\n",
    "player_2_wins = 0\n",
    "ties = 0\n",
    "\n",
    "for i in range(1000000):\n",
    "    player_1 = choice()\n",
    "    player_2 = \"Scissors\"\n",
    "    winr = winner(player_1, player_2)\n",
    "    #print(\"Player 1 plays %s\" % player_1)\n",
    "    #print(\"Player 2 plays %s\" % player_2) \n",
    "    #print(winr)\n",
    "    # Here's where we'll overwrite the counts of the wins to determine best two of three\n",
    "    if winr == \"Player 1 wins\":\n",
    "        player_1_wins = player_1_wins + 1\n",
    "        #print(\"Player 1 total wins: %i\" % player_1_wins)\n",
    "    elif winr == \"Player 2 wins\":\n",
    "        player_2_wins = player_2_wins + 1 \n",
    "        #print(\"Player 2 total wins: %i\" % player_2_wins)\n",
    "    else:\n",
    "        ties = ties + 1\n",
    "\n",
    "print(\"Player 1 won %s games. Player 2 won %s. There were %s ties.\" % (player_1_wins, player_2_wins, ties))"
   ]
  }
 ],
 "metadata": {
  "kernelspec": {
   "display_name": "Python 3",
   "language": "python",
   "name": "python3"
  },
  "language_info": {
   "codemirror_mode": {
    "name": "ipython",
    "version": 3
   },
   "file_extension": ".py",
   "mimetype": "text/x-python",
   "name": "python",
   "nbconvert_exporter": "python",
   "pygments_lexer": "ipython3",
   "version": "3.6.1"
  }
 },
 "nbformat": 4,
 "nbformat_minor": 1
}
